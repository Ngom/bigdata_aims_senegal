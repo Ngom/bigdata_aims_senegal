{
 "metadata": {
  "name": "",
  "signature": "sha256:778d3afa14075ac044bfbacac57dec9d9020a0bde49f1ceedc39294ae6484fd9"
 },
 "nbformat": 3,
 "nbformat_minor": 0,
 "worksheets": [
  {
   "cells": [
    {
     "cell_type": "code",
     "collapsed": false,
     "input": [
      "# Import all libraries needed for the tutorial\n",
      "\n",
      "# General syntax to import specific functions in a library: \n",
      "##from (library) import (specific library function)\n",
      "from pandas import DataFrame, read_csv\n",
      "\n",
      "# General syntax to import a library but no functions: \n",
      "##import (library) as (give the library a nickname/alias)\n",
      "import matplotlib.pyplot as plt\n",
      "import pandas as pd #this is how I usually import pandas\n",
      "import sys #only needed to determine Python version number\n",
      "import matplotlib #only needed to determine Matplotlib version number\n",
      "import sklearn\n",
      "import pydot\n",
      "import csv\n",
      "import numpy as np\n",
      "# Enable inline plotting\n",
      "%matplotlib inline\n",
      "\n",
      "print('Python version ' + sys.version)\n",
      "print('Pandas version ' + pd.__version__)\n",
      "print('Matplotlib version ' + matplotlib.__version__)\n",
      "print('sklearn  ' + sklearn.__version__)\n",
      "print('pydot  ' + pydot.__version__)\n",
      "print('csv  ' + csv.__version__)\n",
      "print('np  ' + np.__version__)"
     ],
     "language": "python",
     "metadata": {},
     "outputs": [
      {
       "output_type": "stream",
       "stream": "stdout",
       "text": [
        "Python version 2.7.9 (default, Apr  2 2015, 15:33:21) \n",
        "[GCC 4.9.2]\n",
        "Pandas version 0.15.0\n",
        "Matplotlib version 1.4.2\n",
        "sklearn  0.15.1\n",
        "pydot  1.0.29\n",
        "csv  1.0\n",
        "np  1.8.2\n"
       ]
      }
     ],
     "prompt_number": 10
    },
    {
     "cell_type": "code",
     "collapsed": false,
     "input": [
      "names = ['Bob','Jessica','Mary','John','Mel', 'Ngom', 'Astou']\n",
      "births = [1968, 1555, 1877, 1578, 1973, 1991, 1995]"
     ],
     "language": "python",
     "metadata": {},
     "outputs": [],
     "prompt_number": 16
    },
    {
     "cell_type": "code",
     "collapsed": false,
     "input": [
      "print names, births"
     ],
     "language": "python",
     "metadata": {},
     "outputs": [
      {
       "output_type": "stream",
       "stream": "stdout",
       "text": [
        "['Bob', 'Jessica', 'Mary', 'John', 'Mel', 'Ngom', 'Astou'] [1968, 1555, 1877, 1578, 1973, 1991, 1995]\n"
       ]
      }
     ],
     "prompt_number": 17
    },
    {
     "cell_type": "code",
     "collapsed": false,
     "input": [
      "zip?"
     ],
     "language": "python",
     "metadata": {},
     "outputs": [],
     "prompt_number": 13
    },
    {
     "cell_type": "code",
     "collapsed": false,
     "input": [
      "babyData = list(zip(names, births))\n",
      "babyData"
     ],
     "language": "python",
     "metadata": {},
     "outputs": [
      {
       "metadata": {},
       "output_type": "pyout",
       "prompt_number": 18,
       "text": [
        "[('Bob', 1968),\n",
        " ('Jessica', 1555),\n",
        " ('Mary', 1877),\n",
        " ('John', 1578),\n",
        " ('Mel', 1973),\n",
        " ('Ngom', 1991),\n",
        " ('Astou', 1995)]"
       ]
      }
     ],
     "prompt_number": 18
    },
    {
     "cell_type": "code",
     "collapsed": false,
     "input": [
      "df = pd.DataFrame(data = babyData, columns = ['names', 'births'])\n",
      "df"
     ],
     "language": "python",
     "metadata": {},
     "outputs": [
      {
       "html": [
        "<div style=\"max-height:1000px;max-width:1500px;overflow:auto;\">\n",
        "<table border=\"1\" class=\"dataframe\">\n",
        "  <thead>\n",
        "    <tr style=\"text-align: right;\">\n",
        "      <th></th>\n",
        "      <th>names</th>\n",
        "      <th>births</th>\n",
        "    </tr>\n",
        "  </thead>\n",
        "  <tbody>\n",
        "    <tr>\n",
        "      <th>0</th>\n",
        "      <td>     Bob</td>\n",
        "      <td> 1968</td>\n",
        "    </tr>\n",
        "    <tr>\n",
        "      <th>1</th>\n",
        "      <td> Jessica</td>\n",
        "      <td> 1555</td>\n",
        "    </tr>\n",
        "    <tr>\n",
        "      <th>2</th>\n",
        "      <td>    Mary</td>\n",
        "      <td> 1877</td>\n",
        "    </tr>\n",
        "    <tr>\n",
        "      <th>3</th>\n",
        "      <td>    John</td>\n",
        "      <td> 1578</td>\n",
        "    </tr>\n",
        "    <tr>\n",
        "      <th>4</th>\n",
        "      <td>     Mel</td>\n",
        "      <td> 1973</td>\n",
        "    </tr>\n",
        "    <tr>\n",
        "      <th>5</th>\n",
        "      <td>    Ngom</td>\n",
        "      <td> 1991</td>\n",
        "    </tr>\n",
        "    <tr>\n",
        "      <th>6</th>\n",
        "      <td>   Astou</td>\n",
        "      <td> 1995</td>\n",
        "    </tr>\n",
        "  </tbody>\n",
        "</table>\n",
        "</div>"
       ],
       "metadata": {},
       "output_type": "pyout",
       "prompt_number": 20,
       "text": [
        "     names  births\n",
        "0      Bob    1968\n",
        "1  Jessica    1555\n",
        "2     Mary    1877\n",
        "3     John    1578\n",
        "4      Mel    1973\n",
        "5     Ngom    1991\n",
        "6    Astou    1995"
       ]
      }
     ],
     "prompt_number": 20
    },
    {
     "cell_type": "code",
     "collapsed": false,
     "input": [
      "df.to_csv?"
     ],
     "language": "python",
     "metadata": {},
     "outputs": [],
     "prompt_number": 21
    },
    {
     "cell_type": "code",
     "collapsed": false,
     "input": [
      "df.to_csv('birth1991.csv', index=False, header=False)"
     ],
     "language": "python",
     "metadata": {},
     "outputs": [],
     "prompt_number": 22
    },
    {
     "cell_type": "code",
     "collapsed": false,
     "input": [
      "read_csv?"
     ],
     "language": "python",
     "metadata": {},
     "outputs": [],
     "prompt_number": 24
    },
    {
     "cell_type": "code",
     "collapsed": false,
     "input": [
      "len(babyData)"
     ],
     "language": "python",
     "metadata": {},
     "outputs": [
      {
       "metadata": {},
       "output_type": "pyout",
       "prompt_number": 41,
       "text": [
        "7"
       ]
      }
     ],
     "prompt_number": 41
    },
    {
     "cell_type": "code",
     "collapsed": false,
     "input": [],
     "language": "python",
     "metadata": {},
     "outputs": []
    }
   ],
   "metadata": {}
  }
 ]
}