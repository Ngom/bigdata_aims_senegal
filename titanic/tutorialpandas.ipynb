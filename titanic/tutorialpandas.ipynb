{
 "cells": [
  {
   "cell_type": "code",
   "execution_count": 4,
   "metadata": {
    "collapsed": false
   },
   "outputs": [
    {
     "name": "stdout",
     "output_type": "stream",
     "text": [
      "Python version 2.7.9 (default, Apr  2 2015, 15:33:21) \n",
      "[GCC 4.9.2]\n",
      "Pandas version 0.15.0\n",
      "Matplotlib version 1.4.2\n",
      "sklearn  0.15.1\n",
      "pydot  1.0.29\n",
      "csv  1.0\n",
      "np  1.8.2\n"
     ]
    }
   ],
   "source": [
    "#  Import all libraries needed for the tutorial\n",
    "#  General syntax to import specific functions in a library: \n",
    "#  rom (library) import (specific library function)\n",
    "from pandas import DataFrame, read_csv\n",
    "#  General syntax to import a library but no functions: \n",
    "#  import (library) as (give the library a nickname/alias)\n",
    "import matplotlib.pyplot as plt\n",
    "import pandas as pd #this is how I usually import pandas\n",
    "import sys #only needed to determine Python version number\n",
    "import matplotlib #only needed to determine Matplotlib version number\n",
    "import sklearn\n",
    "import pydot\n",
    "import csv\n",
    "import numpy as np\n",
    "\n",
    "#  Enable inline plotting\n",
    "\n",
    "%matplotlib inline\n",
    "print('Python version ' + sys.version)\n",
    "print('Pandas version ' + pd.__version__)\n",
    "print('Matplotlib version ' + matplotlib.__version__)\n",
    "print('sklearn  ' + sklearn.__version__)\n",
    "print('pydot  ' + pydot.__version__)\n",
    "print('csv  ' + csv.__version__)\n",
    "print('np  ' + np.__version__) "
   ]
  },
  {
   "cell_type": "code",
   "execution_count": 5,
   "metadata": {
    "collapsed": false
   },
   "outputs": [],
   "source": [
    "names = ['Bob','Jessica','Mary','John','Mel', 'Ngom', 'Astou']\n",
    "births = [1968, 1555, 1877, 1578, 1973, 1991, 1995]"
   ]
  },
  {
   "cell_type": "code",
   "execution_count": 6,
   "metadata": {
    "collapsed": false
   },
   "outputs": [
    {
     "name": "stdout",
     "output_type": "stream",
     "text": [
      "['Bob', 'Jessica', 'Mary', 'John', 'Mel', 'Ngom', 'Astou'] [1968, 1555, 1877, 1578, 1973, 1991, 1995]\n"
     ]
    }
   ],
   "source": [
    "print names, births"
   ]
  },
  {
   "cell_type": "code",
   "execution_count": 17,
   "metadata": {
    "collapsed": false
   },
   "outputs": [],
   "source": [
    "zip?"
   ]
  },
  {
   "cell_type": "code",
   "execution_count": 8,
   "metadata": {
    "collapsed": false
   },
   "outputs": [
    {
     "data": {
      "text/plain": [
       "[('Bob', 1968),\n",
       " ('Jessica', 1555),\n",
       " ('Mary', 1877),\n",
       " ('John', 1578),\n",
       " ('Mel', 1973),\n",
       " ('Ngom', 1991),\n",
       " ('Astou', 1995)]"
      ]
     },
     "execution_count": 8,
     "metadata": {},
     "output_type": "execute_result"
    }
   ],
   "source": [
    "babyData = list(zip(names, births))\n",
    "babyData"
   ]
  },
  {
   "cell_type": "code",
   "execution_count": 13,
   "metadata": {
    "collapsed": false
   },
   "outputs": [],
   "source": [
    "df = pd.DataFrame(data = babyData, columns = ['names', 'births'])\n",
    "df"
   ]
  },
  {
   "cell_type": "code",
   "execution_count": 12,
   "metadata": {
    "collapsed": false
   },
   "outputs": [],
   "source": [
    "df.to_csv?"
   ]
  },
  {
   "cell_type": "code",
   "execution_count": 22,
   "metadata": {
    "collapsed": false
   },
   "outputs": [],
   "source": [
    "df.to_csv('birth1991.csv', index=False, header=False)"
   ]
  },
  {
   "cell_type": "code",
   "execution_count": 24,
   "metadata": {
    "collapsed": false
   },
   "outputs": [],
   "source": [
    "read_csv?"
   ]
  },
  {
   "cell_type": "code",
   "execution_count": 41,
   "metadata": {
    "collapsed": false
   },
   "outputs": [
    {
     "data": {
      "text/plain": [
       "7"
      ]
     },
     "execution_count": 41,
     "metadata": {},
     "output_type": "execute_result"
    }
   ],
   "source": [
    "len(babyData)"
   ]
  },
  {
   "cell_type": "code",
   "execution_count": 15,
   "metadata": {
    "collapsed": false
   },
   "outputs": [
    {
     "data": {
      "text/plain": [
       "array([['Bob', 1968],\n",
       "       ['Jessica', 1555],\n",
       "       ['Mary', 1877],\n",
       "       ['John', 1578],\n",
       "       ['Mel', 1973],\n",
       "       ['Ngom', 1991],\n",
       "       ['Astou', 1995]], dtype=object)"
      ]
     },
     "execution_count": 15,
     "metadata": {},
     "output_type": "execute_result"
    }
   ],
   "source": [
    "x = df.values\n",
    "x"
   ]
  },
  {
   "cell_type": "code",
   "execution_count": 16,
   "metadata": {
    "collapsed": false
   },
   "outputs": [
    {
     "data": {
      "text/plain": [
       "7"
      ]
     },
     "execution_count": 16,
     "metadata": {},
     "output_type": "execute_result"
    }
   ],
   "source": [
    "len(x)"
   ]
  },
  {
   "cell_type": "code",
   "execution_count": null,
   "metadata": {
    "collapsed": true
   },
   "outputs": [],
   "source": []
  }
 ],
 "metadata": {
  "kernelspec": {
   "display_name": "Python 2",
   "language": "python",
   "name": "python2"
  },
  "language_info": {
   "codemirror_mode": {
    "name": "ipython",
    "version": 2
   },
   "file_extension": ".py",
   "mimetype": "text/x-python",
   "name": "python",
   "nbconvert_exporter": "python",
   "pygments_lexer": "ipython2",
   "version": "2.7.9"
  }
 },
 "nbformat": 4,
 "nbformat_minor": 0
}
