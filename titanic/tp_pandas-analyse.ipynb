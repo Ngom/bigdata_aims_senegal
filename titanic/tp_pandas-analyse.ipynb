{
 "metadata": {
  "name": "",
  "signature": "sha256:89f4e6ad79651ff7cbb03b3ac28d2caf054ea91afc0be6f6c179ed7b1274f5eb"
 },
 "nbformat": 3,
 "nbformat_minor": 0,
 "worksheets": [
  {
   "cells": [
    {
     "cell_type": "code",
     "collapsed": false,
     "input": [
      "import numpy as np\n",
      "import pandas as pd\n",
      "import matplotlib.pyplot as plt\n",
      "import os "
     ],
     "language": "python",
     "metadata": {},
     "outputs": [],
     "prompt_number": 25
    },
    {
     "cell_type": "code",
     "collapsed": false,
     "input": [
      "filename = 'data/reviewblock.csv'\n",
      "os.path.exists(filename)"
     ],
     "language": "python",
     "metadata": {},
     "outputs": [
      {
       "metadata": {},
       "output_type": "pyout",
       "prompt_number": 26,
       "text": [
        "True"
       ]
      }
     ],
     "prompt_number": 26
    },
    {
     "cell_type": "code",
     "collapsed": false,
     "input": [
      "pwd"
     ],
     "language": "python",
     "metadata": {},
     "outputs": [
      {
       "metadata": {},
       "output_type": "pyout",
       "prompt_number": 27,
       "text": [
        "u'/home/elhadji/Desktop/bigdata_aims_senegal/titanic'"
       ]
      }
     ],
     "prompt_number": 27
    },
    {
     "cell_type": "code",
     "collapsed": false,
     "input": [
      "ls data"
     ],
     "language": "python",
     "metadata": {},
     "outputs": [
      {
       "output_type": "stream",
       "stream": "stdout",
       "text": [
        "myfirstforest.csv  reviewblock.csv  test.csv  train.csv\r\n"
       ]
      }
     ],
     "prompt_number": 28
    },
    {
     "cell_type": "code",
     "collapsed": false,
     "input": [
      "df0 = pd.read_csv(filename)"
     ],
     "language": "python",
     "metadata": {},
     "outputs": [],
     "prompt_number": 29
    },
    {
     "cell_type": "code",
     "collapsed": false,
     "input": [
      "df0.info()"
     ],
     "language": "python",
     "metadata": {},
     "outputs": [
      {
       "output_type": "stream",
       "stream": "stdout",
       "text": [
        "<class 'pandas.core.frame.DataFrame'>\n",
        "Int64Index: 4 entries, 0 to 3\n",
        "Data columns (total 4 columns):\n",
        "name       4 non-null object\n",
        "couleur    4 non-null object\n",
        "niveau     4 non-null object\n",
        "taille     4 non-null float64\n",
        "dtypes: float64(1), object(3)\n",
        "memory usage: 160.0 bytes\n"
       ]
      }
     ],
     "prompt_number": 30
    },
    {
     "cell_type": "code",
     "collapsed": false,
     "input": [
      "df01 = df0.drop('taille', axis=1)\n",
      "df01"
     ],
     "language": "python",
     "metadata": {},
     "outputs": [
      {
       "html": [
        "<div style=\"max-height:1000px;max-width:1500px;overflow:auto;\">\n",
        "<table border=\"1\" class=\"dataframe\">\n",
        "  <thead>\n",
        "    <tr style=\"text-align: right;\">\n",
        "      <th></th>\n",
        "      <th>name</th>\n",
        "      <th>couleur</th>\n",
        "      <th>niveau</th>\n",
        "    </tr>\n",
        "  </thead>\n",
        "  <tbody>\n",
        "    <tr>\n",
        "      <th>0</th>\n",
        "      <td> pierre</td>\n",
        "      <td> blanc</td>\n",
        "      <td>      PhD</td>\n",
        "    </tr>\n",
        "    <tr>\n",
        "      <th>1</th>\n",
        "      <td>   yabe</td>\n",
        "      <td>  noir</td>\n",
        "      <td> Post-PhD</td>\n",
        "    </tr>\n",
        "    <tr>\n",
        "      <th>2</th>\n",
        "      <td>   elie</td>\n",
        "      <td> blanc</td>\n",
        "      <td>       MC</td>\n",
        "    </tr>\n",
        "    <tr>\n",
        "      <th>3</th>\n",
        "      <td>  steph</td>\n",
        "      <td> blanc</td>\n",
        "      <td>       Pr</td>\n",
        "    </tr>\n",
        "  </tbody>\n",
        "</table>\n",
        "</div>"
       ],
       "metadata": {},
       "output_type": "pyout",
       "prompt_number": 31,
       "text": [
        "     name couleur    niveau\n",
        "0  pierre   blanc       PhD\n",
        "1    yabe    noir  Post-PhD\n",
        "2    elie   blanc        MC\n",
        "3   steph   blanc        Pr"
       ]
      }
     ],
     "prompt_number": 31
    },
    {
     "cell_type": "code",
     "collapsed": false,
     "input": [
      "df0"
     ],
     "language": "python",
     "metadata": {},
     "outputs": [
      {
       "html": [
        "<div style=\"max-height:1000px;max-width:1500px;overflow:auto;\">\n",
        "<table border=\"1\" class=\"dataframe\">\n",
        "  <thead>\n",
        "    <tr style=\"text-align: right;\">\n",
        "      <th></th>\n",
        "      <th>name</th>\n",
        "      <th>couleur</th>\n",
        "      <th>niveau</th>\n",
        "      <th>taille</th>\n",
        "    </tr>\n",
        "  </thead>\n",
        "  <tbody>\n",
        "    <tr>\n",
        "      <th>0</th>\n",
        "      <td> pierre</td>\n",
        "      <td> blanc</td>\n",
        "      <td>      PhD</td>\n",
        "      <td> 1.87</td>\n",
        "    </tr>\n",
        "    <tr>\n",
        "      <th>1</th>\n",
        "      <td>   yabe</td>\n",
        "      <td>  noir</td>\n",
        "      <td> Post-PhD</td>\n",
        "      <td> 1.85</td>\n",
        "    </tr>\n",
        "    <tr>\n",
        "      <th>2</th>\n",
        "      <td>   elie</td>\n",
        "      <td> blanc</td>\n",
        "      <td>       MC</td>\n",
        "      <td> 1.75</td>\n",
        "    </tr>\n",
        "    <tr>\n",
        "      <th>3</th>\n",
        "      <td>  steph</td>\n",
        "      <td> blanc</td>\n",
        "      <td>       Pr</td>\n",
        "      <td> 1.67</td>\n",
        "    </tr>\n",
        "  </tbody>\n",
        "</table>\n",
        "</div>"
       ],
       "metadata": {},
       "output_type": "pyout",
       "prompt_number": 32,
       "text": [
        "     name couleur    niveau  taille\n",
        "0  pierre   blanc       PhD    1.87\n",
        "1    yabe    noir  Post-PhD    1.85\n",
        "2    elie   blanc        MC    1.75\n",
        "3   steph   blanc        Pr    1.67"
       ]
      }
     ],
     "prompt_number": 32
    },
    {
     "cell_type": "code",
     "collapsed": false,
     "input": [
      "%matplotlib inline\n",
      "df0.plot()"
     ],
     "language": "python",
     "metadata": {},
     "outputs": [
      {
       "metadata": {},
       "output_type": "pyout",
       "prompt_number": 35,
       "text": [
        "<matplotlib.axes._subplots.AxesSubplot at 0x7fd30d77bf50>"
       ]
      },
      {
       "metadata": {},
       "output_type": "display_data",
       "png": "[encoded data removed]",
       "text": [
        "<matplotlib.figure.Figure at 0x7fd30d7c3c50>"
       ]
      }
     ],
     "prompt_number": 35
    },
    {
     "cell_type": "code",
     "collapsed": false,
     "input": [
      "%matplotlib inline\n",
      "df0['taille'].plot(kind='bar')"
     ],
     "language": "python",
     "metadata": {},
     "outputs": [
      {
       "metadata": {},
       "output_type": "pyout",
       "prompt_number": 37,
       "text": [
        "<matplotlib.axes._subplots.AxesSubplot at 0x7fd30d74b2d0>"
       ]
      },
      {
       "metadata": {},
       "output_type": "display_data",
       "png": "[encoded data removed]",
       "text": [
        "<matplotlib.figure.Figure at 0x7fd311270110>"
       ]
      }
     ],
     "prompt_number": 37
    },
    {
     "cell_type": "code",
     "collapsed": false,
     "input": [
      "help(df0.plot)"
     ],
     "language": "python",
     "metadata": {},
     "outputs": [
      {
       "output_type": "stream",
       "stream": "stdout",
       "text": [
        "Help on method plot_frame in module pandas.tools.plotting:\n",
        "\n",
        "plot_frame(data, x=None, y=None, kind='line', ax=None, subplots=False, sharex=True, sharey=False, layout=None, figsize=None, use_index=True, title=None, grid=None, legend=True, style=None, logx=False, logy=False, loglog=False, xticks=None, yticks=None, xlim=None, ylim=None, rot=None, fontsize=None, colormap=None, table=False, yerr=None, xerr=None, secondary_y=False, sort_columns=False, **kwds) method of pandas.core.frame.DataFrame instance\n",
        "    Make plots of DataFrame using matplotlib / pylab.\n",
        "    \n",
        "    Parameters\n",
        "    ----------\n",
        "    data : DataFrame\n",
        "    x : label or position, default None\n",
        "    y : label or position, default None\n",
        "        Allows plotting of one column versus another\n",
        "    kind : str\n",
        "        - 'line' : line plot (default)\n",
        "        - 'bar' : vertical bar plot\n",
        "        - 'barh' : horizontal bar plot\n",
        "        - 'hist' : histogram\n",
        "        - 'box' : boxplot\n",
        "        - 'kde' : Kernel Density Estimation plot\n",
        "        - 'density' : same as 'kde'\n",
        "        - 'area' : area plot\n",
        "        - 'pie' : pie plot\n",
        "        - 'scatter' : scatter plot\n",
        "        - 'hexbin' : hexbin plot\n",
        "    ax : matplotlib axes object, default None\n",
        "    subplots : boolean, default False\n",
        "        Make separate subplots for each column\n",
        "    sharex : boolean, default True\n",
        "        In case subplots=True, share x axis\n",
        "    sharey : boolean, default False\n",
        "        In case subplots=True, share y axis\n",
        "    layout : tuple (optional)\n",
        "        (rows, columns) for the layout of subplots\n",
        "    figsize : a tuple (width, height) in inches\n",
        "    use_index : boolean, default True\n",
        "        Use index as ticks for x axis\n",
        "    title : string\n",
        "        Title to use for the plot\n",
        "    grid : boolean, default None (matlab style default)\n",
        "        Axis grid lines\n",
        "    legend : False/True/'reverse'\n",
        "        Place legend on axis subplots\n",
        "    style : list or dict\n",
        "        matplotlib line style per column\n",
        "    logx : boolean, default False\n",
        "        Use log scaling on x axis\n",
        "    logy : boolean, default False\n",
        "        Use log scaling on y axis\n",
        "    loglog : boolean, default False\n",
        "        Use log scaling on both x and y axes\n",
        "    xticks : sequence\n",
        "        Values to use for the xticks\n",
        "    yticks : sequence\n",
        "        Values to use for the yticks\n",
        "    xlim : 2-tuple/list\n",
        "    ylim : 2-tuple/list\n",
        "    rot : int, default None\n",
        "        Rotation for ticks\n",
        "    fontsize : int, default None\n",
        "        Font size for ticks\n",
        "    colormap : str or matplotlib colormap object, default None\n",
        "        Colormap to select colors from. If string, load colormap with that name\n",
        "        from matplotlib.\n",
        "    colorbar : boolean, optional\n",
        "        If True, plot colorbar (only relevant for 'scatter' and 'hexbin' plots)\n",
        "    position : float\n",
        "        Specify relative alignments for bar plot layout.\n",
        "        From 0 (left/bottom-end) to 1 (right/top-end). Default is 0.5 (center)\n",
        "    layout : tuple (optional)\n",
        "        (rows, columns) for the layout of the plot\n",
        "    table : boolean, Series or DataFrame, default False\n",
        "        If True, draw a table using the data in the DataFrame and the data will\n",
        "        be transposed to meet matplotlib's default layout.\n",
        "        If a Series or DataFrame is passed, use passed data to draw a table.\n",
        "    yerr : DataFrame, Series, array-like, dict and str\n",
        "        See :ref:`Plotting with Error Bars <visualization.errorbars>` for detail.\n",
        "    xerr : same types as yerr.\n",
        "    stacked : boolean, default False in line and\n",
        "        bar plots, and True in area plot. If True, create stacked plot.\n",
        "    sort_columns : boolean, default False\n",
        "        Sort column names to determine plot ordering\n",
        "    secondary_y : boolean or sequence, default False\n",
        "        Whether to plot on the secondary y-axis\n",
        "        If a list/tuple, which columns to plot on secondary y-axis\n",
        "    mark_right : boolean, default True\n",
        "        When using a secondary_y axis, automatically mark the column\n",
        "        labels with \"(right)\" in the legend\n",
        "    kwds : keywords\n",
        "        Options to pass to matplotlib plotting method\n",
        "    \n",
        "    Returns\n",
        "    -------\n",
        "    axes : matplotlib.AxesSubplot or np.array of them\n",
        "    \n",
        "    Notes\n",
        "    -----\n",
        "    \n",
        "    - See matplotlib documentation online for more on this subject\n",
        "    - If `kind` = 'bar' or 'barh', you can specify relative alignments\n",
        "      for bar plot layout by `position` keyword.\n",
        "      From 0 (left/bottom-end) to 1 (right/top-end). Default is 0.5 (center)\n",
        "    - If `kind` = 'scatter' and the argument `c` is the name of a dataframe\n",
        "      column, the values of that column are used to color each point.\n",
        "    - If `kind` = 'hexbin', you can control the size of the bins with the\n",
        "      `gridsize` argument. By default, a histogram of the counts around each\n",
        "      `(x, y)` point is computed. You can specify alternative aggregations\n",
        "      by passing values to the `C` and `reduce_C_function` arguments.\n",
        "      `C` specifies the value at each `(x, y)` point and `reduce_C_function`\n",
        "      is a function of one argument that reduces all the values in a bin to\n",
        "      a single number (e.g. `mean`, `max`, `sum`, `std`).\n",
        "\n"
       ]
      }
     ],
     "prompt_number": 38
    },
    {
     "cell_type": "code",
     "collapsed": false,
     "input": [
      "print 'Alhamdoulilahi, ' +'I can now analyse every statistic data ' + ' by using python-pandas.'  + '\\n Ouf!!!! very good.'"
     ],
     "language": "python",
     "metadata": {},
     "outputs": [
      {
       "output_type": "stream",
       "stream": "stdout",
       "text": [
        "Alhamdoulilahi, I can now analyse every statistic data  by using python-pandas.\n",
        " Ouf!!!! very good.\n"
       ]
      }
     ],
     "prompt_number": 44
    },
    {
     "cell_type": "code",
     "collapsed": false,
     "input": [],
     "language": "python",
     "metadata": {},
     "outputs": []
    }
   ],
   "metadata": {}
  }
 ]
}