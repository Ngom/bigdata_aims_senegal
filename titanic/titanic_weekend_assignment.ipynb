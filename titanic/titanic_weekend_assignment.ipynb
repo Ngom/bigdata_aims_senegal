{
 "metadata": {
  "name": "",
  "signature": "sha256:cab3bdd5ef4bcb9d4ce9648d570ada624113623fba26788f16cc747323631d51"
 },
 "nbformat": 3,
 "nbformat_minor": 0,
 "worksheets": [
  {
   "cells": [
    {
     "cell_type": "code",
     "collapsed": false,
     "input": [
      "# coding: utf-8\n",
      "\n",
      "# In[2]:\n",
      "\n",
      "import os\n",
      "import sys\n",
      "import numpy as np\n",
      "import pandas as pd\n",
      "import matplotlib.pylab as plt\n",
      "import IPython\n",
      "\n",
      "\n",
      "# #### First let us define the path to the training and test data sets. Just to be absolutely sure, we will check if the path is correct, that the file exists in the path we provided. This is done using the os.path.exists function.\n"
     ],
     "language": "python",
     "metadata": {},
     "outputs": [],
     "prompt_number": 1
    },
    {
     "cell_type": "code",
     "collapsed": false,
     "input": [
      "# In[22]:\n",
      "\n",
      "training_data_filepath='data/train.csv'\n",
      "test_data_filepath='data/test.csv'\n",
      "print 'The path to the training data set is correct: ', os.path.exists(training_data_filepath)\n",
      "print 'The path to the test data set is correct: ', os.path.exists(training_data_filepath)\n",
      "\n",
      "\n",
      "# #### Now that we know the files exist, let us first load the training data set to a pandas DataFrame. This DataFrame is just like a table, but with many powerful methods to make analysis on the table very easy. Read more about pandas DataFrame here http://pandas.pydata.org/pandas-docs/stable/dsintro.html\n"
     ],
     "language": "python",
     "metadata": {},
     "outputs": [
      {
       "output_type": "stream",
       "stream": "stdout",
       "text": [
        "The path to the training data set is correct:  True\n",
        "The path to the test data set is correct:  True\n"
       ]
      }
     ],
     "prompt_number": 2
    },
    {
     "cell_type": "code",
     "collapsed": false,
     "input": [
      "df_training = pd.read_csv(training_data_filepath)"
     ],
     "language": "python",
     "metadata": {},
     "outputs": [],
     "prompt_number": 3
    },
    {
     "cell_type": "code",
     "collapsed": false,
     "input": [
      "df_training.info()"
     ],
     "language": "python",
     "metadata": {},
     "outputs": [
      {
       "output_type": "stream",
       "stream": "stdout",
       "text": [
        "<class 'pandas.core.frame.DataFrame'>\n",
        "Int64Index: 891 entries, 0 to 890\n",
        "Data columns (total 12 columns):\n",
        "PassengerId    891 non-null int64\n",
        "Survived       891 non-null int64\n",
        "Pclass         891 non-null int64\n",
        "Name           891 non-null object\n",
        "Sex            891 non-null object\n",
        "Age            714 non-null float64\n",
        "SibSp          891 non-null int64\n",
        "Parch          891 non-null int64\n",
        "Ticket         891 non-null object\n",
        "Fare           891 non-null float64\n",
        "Cabin          204 non-null object\n",
        "Embarked       889 non-null object\n",
        "dtypes: float64(2), int64(5), object(5)\n",
        "memory usage: 90.5 KB\n"
       ]
      }
     ],
     "prompt_number": 4
    },
    {
     "cell_type": "code",
     "collapsed": false,
     "input": [
      "# #### From the above output we see that, the following features have at least one data missing\n",
      "# * 'Age'\n",
      "# * 'Cabin'\n",
      "# * 'Embarked'\n",
      "# * 'Name'\n",
      "# * 'Sex'\n",
      "# * 'Ticket'\n",
      "# ##### Question: Why?\n",
      "# \n",
      "# #### In principle we should try to fill these missing data through interpolation, mean or any other intelligent method. Bur for this excersise let us drop all  the above features with missing data.\n",
      "# We use the pandas drop method to drop the columns, hence axis=1, from the training DataFrame. The resulting DataFrame would be a clean training data set.\n",
      "\n",
      "# In[25]:\n",
      "\n",
      "df_training_clean = df_training.drop(['Age','Cabin','Embarked','Name','Sex','Ticket','Fare'],axis=1)\n",
      "\n",
      "\n",
      "# #### Our goal here is to train a machine to learn the relationship between different features about the titanic passangers  and their survival chance. Therefore out target is the column * 'Survived' *. We want to drop this column from our DataFrame assign \n",
      "# The pop method drops the Survived column from the data frame and assigns it to a variable target\n"
     ],
     "language": "python",
     "metadata": {},
     "outputs": [],
     "prompt_number": 5
    },
    {
     "cell_type": "code",
     "collapsed": false,
     "input": [
      "target = df_training_clean.pop('Survived') "
     ],
     "language": "python",
     "metadata": {},
     "outputs": [],
     "prompt_number": 6
    },
    {
     "cell_type": "code",
     "collapsed": false,
     "input": [
      "df_training_clean.info()"
     ],
     "language": "python",
     "metadata": {},
     "outputs": [
      {
       "output_type": "stream",
       "stream": "stdout",
       "text": [
        "<class 'pandas.core.frame.DataFrame'>\n",
        "Int64Index: 891 entries, 0 to 890\n",
        "Data columns (total 4 columns):\n",
        "PassengerId    891 non-null int64\n",
        "Pclass         891 non-null int64\n",
        "SibSp          891 non-null int64\n",
        "Parch          891 non-null int64\n",
        "dtypes: int64(4)\n",
        "memory usage: 34.8 KB\n"
       ]
      }
     ],
     "prompt_number": 7
    },
    {
     "cell_type": "code",
     "collapsed": false,
     "input": [
      "get_ipython().magic(u'matplotlib inline')\n",
      "df_training_clean['Pclass'].plot(kind='kde')"
     ],
     "language": "python",
     "metadata": {},
     "outputs": [
      {
       "metadata": {},
       "output_type": "pyout",
       "prompt_number": 9,
       "text": [
        "<matplotlib.axes._subplots.AxesSubplot at 0x7f896a6d3a10>"
       ]
      },
      {
       "metadata": {},
       "output_type": "display_data",
       "png": "[encoded data removed]",
       "text": [
        "<matplotlib.figure.Figure at 0x7f896a6d3310>"
       ]
      }
     ],
     "prompt_number": 9
    },
    {
     "cell_type": "code",
     "collapsed": false,
     "input": [
      "# #### Now let us train a decision tree algorithm using the training data and the corresponding target. We will use the scikit-learn (sklearn) python package. Scikit expects a pure numpy array so we should convert our training DataFrame to numpy array as follows.\n",
      "\n",
      "# In[31]:\n",
      "\n",
      "array_training_clean=df_training_clean.values\n",
      "array_target=target.values\n",
      "#the shape method tells us about the rank of the array\n",
      "print 'The shape of training array is: ',array_training_clean.shape \n",
      "print 'The shape of the target array is: ',array_target.shape \n"
     ],
     "language": "python",
     "metadata": {},
     "outputs": [
      {
       "output_type": "stream",
       "stream": "stdout",
       "text": [
        "The shape of training array is:  (891, 4)\n",
        "The shape of the target array is:  (891,)\n"
       ]
      }
     ],
     "prompt_number": 10
    },
    {
     "cell_type": "code",
     "collapsed": false,
     "input": [
      "# #### Now the training part -  it takes only just three lines!!! \n",
      "\n",
      "# In[38]:\n",
      "\n",
      "from sklearn import tree #import tree algorithm from scikit-learn\n",
      "#Intitialize the DecisionTreeClassifier algorithm with optional parameters \n",
      "classifier = tree.DecisionTreeClassifier(min_samples_leaf=5, max_depth=4) \n",
      "#use the initialized tree to learn the relationship between \n",
      "#known passanger information, features, and know state of survival \n",
      "classifier.fit(array_training_clean, array_target)\n"
     ],
     "language": "python",
     "metadata": {},
     "outputs": [
      {
       "metadata": {},
       "output_type": "pyout",
       "prompt_number": 11,
       "text": [
        "DecisionTreeClassifier(compute_importances=None, criterion='gini',\n",
        "            max_depth=4, max_features=None, max_leaf_nodes=None,\n",
        "            min_density=None, min_samples_leaf=5, min_samples_split=2,\n",
        "            random_state=None, splitter='best')"
       ]
      }
     ],
     "prompt_number": 11
    },
    {
     "cell_type": "code",
     "collapsed": false,
     "input": [
      "# #### Let us see what the machine will predict \n",
      "\n",
      "# In[42]:\n",
      "\n",
      "#The variable classifier in the above cell contains a tree which has a \n",
      "#knowledge of how passengers features are related to their survival.\n",
      "\n",
      "#Just to have insight, let's see how our decision tree predicts \n",
      "print \"First 5 training target\"\n",
      "print array_target[0:5]\n",
      "print \"Prediction on first 5 training Rows\"\n",
      "print classifier.predict(array_training_clean[0:5,:])\n"
     ],
     "language": "python",
     "metadata": {},
     "outputs": [
      {
       "output_type": "stream",
       "stream": "stdout",
       "text": [
        "First 5 training target\n",
        "[0 1 1 1 0]\n",
        "Prediction on first 5 training Rows\n",
        "[0 0 0 0 0]\n"
       ]
      }
     ],
     "prompt_number": 12
    },
    {
     "cell_type": "code",
     "collapsed": false,
     "input": [
      "# We can see the score, the efficiency of the training as follows\n",
      "print(\"Training Score: \", classifier.score(array_training_clean, array_target))\n",
      "#Since our analysis is simple, we did not attempt to fill the missing data etc.  \n",
      "#the score score is low, in principle with a proper data cleaning etc. \n",
      "# we could get the maximim training score of 1. \n",
      "\n",
      "\n",
      "# ## Weekend Assignment\n",
      "# #### Your task it to do the following - just copy paste the python codes in between the lines and it should work. \n",
      "# \n",
      "# 1. load the test data into pandas DataFrame \n",
      "# \n",
      "#         df_test = pd.read_csv(test_data_filepath)\n",
      "#               \n",
      "# 2. Check the nature of the test data using the info() method as \n",
      "# \n",
      "#         df_test.info()    \n",
      "#      \n",
      "#      Here you will notice that there is missing data for the Fare column for one passenger. \n",
      "#      Since we need the same set of features in the training and test data sets, \n",
      "#      **we can NOT drop it**. We need therefore to fill it. i) Compute the mean \n",
      "#      Fare for different classes, and put them in a dictionary ii) get the rows whose\n",
      "#      Fare is missing iii) fill the missing data according to the class the passanger is in \n",
      "# \n",
      "#         i) mean_fare_by_pclass = df_test[['Pclass','Fare']].groupby(['Pclass']).agg('mean')['Fare']\n",
      "#     \n",
      "#         ii) fare_given_pclass=df_test['Pclass'].apply(lambda x: mean_fare_by_pclass[x])\n",
      "#     \n",
      "#         iii) df_test['Fare'].fillna(fare_given_pclass,inplace=True)\n",
      "#     \n",
      "# 3. Similar to what we did for the training data, drop the columns \n",
      "#     ['Age','Cabin','Embarked','Name','Sex','Ticket'] as \n",
      "# \n",
      "#         df_test_clean = df_test.drop(['Age','Cabin','Embarked','Name','Sex','Ticket'],axis=1)\n",
      "#                     \n",
      "# 4. Convert the test DataFrame to numpy array \n",
      "# \n",
      "#         array_test_clean = df_test_clean.values\n",
      "#                \n",
      "# 5. Predict the survival of passengers using the tree we trained as\n",
      "# \n",
      "#         survival_prediction = classifier.predict(array_test_clean)     \n",
      "#           \n",
      "# 6. Save the prediction to a file. If you want, you can submit this file in Kaggle page and get your score \n",
      "# \n",
      "#         with open('prediction.csv', 'w') as csvfile:    \n",
      "#             for survived in survival_prediction:\n",
      "#                  csvfile.write(\"{}\\n\".format(survived)) \n",
      "#     \n",
      "# 7. **BONUS:** Visualize the result. Be creative :)"
     ],
     "language": "python",
     "metadata": {},
     "outputs": [
      {
       "output_type": "stream",
       "stream": "stdout",
       "text": [
        "('Training Score: ', 0.72951739618406286)\n"
       ]
      }
     ],
     "prompt_number": 13
    },
    {
     "cell_type": "code",
     "collapsed": false,
     "input": [
      "# In[ ]:\n",
      "\n",
      "# df_test = pd.read_csv(test_data_filepath)\n",
      "# mean_fare_by_pclass = df_test[['Pclass','Fare']].groupby(['Pclass']).agg('mean')['Fare']\n",
      "# fare_given_pclass=df_test['Pclass'].apply(lambda x: mean_fare_by_pclass[x])\n",
      "# df_test['Fare'].fillna(fare_given_pclass,inplace=True)\n",
      "# df_test_clean = df_test.drop(['Age','Cabin','Embarked','Name','Sex','Ticket'],axis=1) \n",
      "# array_test_clean = df_test_clean.values\n",
      "# survival_test = classifier.predict(array_test_clean)\n",
      "# df_test.info()\n",
      "\n",
      "\n",
      "# In[ ]:\n",
      "\n",
      "\n",
      "\n",
      "\n",
      "# In[ ]:\n",
      "\n",
      "\n",
      "\n",
      "\n",
      "# In[ ]:\n"
     ],
     "language": "python",
     "metadata": {},
     "outputs": [],
     "prompt_number": 14
    },
    {
     "cell_type": "code",
     "collapsed": false,
     "input": [],
     "language": "python",
     "metadata": {},
     "outputs": []
    }
   ],
   "metadata": {}
  }
 ]
}