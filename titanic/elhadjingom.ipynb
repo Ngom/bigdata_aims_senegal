{
 "metadata": {
  "name": "",
  "signature": "sha256:6e1755db04ab1c412d2c86dfb7e2b4120ab6ba6c9ab1dbb53552bf2617342260"
 },
 "nbformat": 3,
 "nbformat_minor": 0,
 "worksheets": [
  {
   "cells": [
    {
     "cell_type": "code",
     "collapsed": false,
     "input": [
      "# coding: utf-8\n",
      "import os\n",
      "import sys\n",
      "import numpy as np\n",
      "import pandas as pd\n",
      "import matplotlib.pylab as plt\n",
      "import IPython\n",
      "\n",
      "\n",
      "# #### First let us define the path to the training and test data sets. Just to be absolutely sure, we will check if the path is correct, that the file exists in the path we provided. This is done using the os.path.exists function.\n"
     ],
     "language": "python",
     "metadata": {},
     "outputs": [],
     "prompt_number": 70
    },
    {
     "cell_type": "code",
     "collapsed": false,
     "input": [
      "training_data_filepath='data/train.csv'\n",
      "test_data_filepath='data/test.csv'\n",
      "print 'The path to the training data set is correct: ', os.path.exists(training_data_filepath)\n",
      "print 'The path to the test data set is correct: ', os.path.exists(training_data_filepath)\n"
     ],
     "language": "python",
     "metadata": {},
     "outputs": [
      {
       "output_type": "stream",
       "stream": "stdout",
       "text": [
        "The path to the training data set is correct:  True\n",
        "The path to the test data set is correct:  True\n"
       ]
      }
     ],
     "prompt_number": 71
    },
    {
     "cell_type": "code",
     "collapsed": false,
     "input": [
      "\n",
      "# #### Now that we know the files exist, let us first load the training data set to a pandas DataFrame. This DataFrame is just like a table, but with many powerful methods to make analysis on the table very easy. Read more about pandas DataFrame here http://pandas.pydata.org/pandas-docs/stable/dsintro.html\n",
      "\n",
      "df_training = pd.read_csv(training_data_filepath)\n",
      "\n",
      "df_training.info()\n"
     ],
     "language": "python",
     "metadata": {},
     "outputs": [
      {
       "output_type": "stream",
       "stream": "stdout",
       "text": [
        "<class 'pandas.core.frame.DataFrame'>\n",
        "Int64Index: 891 entries, 0 to 890\n",
        "Data columns (total 12 columns):\n",
        "PassengerId    891 non-null int64\n",
        "Survived       891 non-null int64\n",
        "Pclass         891 non-null int64\n",
        "Name           891 non-null object\n",
        "Sex            891 non-null object\n",
        "Age            714 non-null float64\n",
        "SibSp          891 non-null int64\n",
        "Parch          891 non-null int64\n",
        "Ticket         891 non-null object\n",
        "Fare           891 non-null float64\n",
        "Cabin          204 non-null object\n",
        "Embarked       889 non-null object\n",
        "dtypes: float64(2), int64(5), object(5)\n",
        "memory usage: 90.5 KB\n"
       ]
      }
     ],
     "prompt_number": 72
    },
    {
     "cell_type": "code",
     "collapsed": false,
     "input": [
      "# #### From the above output we see that, the following features have at least one data missing\n",
      "# * 'Age'\n",
      "# * 'Cabin'\n",
      "# * 'Embarked'\n",
      "# * 'Name'\n",
      "# * 'Sex'\n",
      "# * 'Ticket'\n",
      "# ##### Question: Why?\n",
      "# \n",
      "# #### In principle we should try to fill these missing data through interpolation, mean or any other intelligent method. Bur for this excersise let us drop all  the above features with missing data.\n",
      "# We use the pandas drop method to drop the columns, hence axis=1, from the training DataFrame. The resulting DataFrame would be a clean training data set.\n",
      "df_training_clean = df_training.drop(['Age','Cabin','Embarked','Name','Sex','Ticket','Fare'],axis=1)\n",
      "\n",
      "\n",
      "# #### Our goal here is to train a machine to learn the relationship between different features about the titanic passangers  and their survival chance. Therefore out target is the column * 'Survived' *. We want to drop this column from our DataFrame assign \n",
      "# The pop method drops the Survived column from the data frame and assigns it to a variable target"
     ],
     "language": "python",
     "metadata": {},
     "outputs": [],
     "prompt_number": 73
    },
    {
     "cell_type": "code",
     "collapsed": false,
     "input": [
      "target = df_training_clean.pop('Survived') \n",
      "df_training_clean.info()"
     ],
     "language": "python",
     "metadata": {},
     "outputs": [
      {
       "output_type": "stream",
       "stream": "stdout",
       "text": [
        "<class 'pandas.core.frame.DataFrame'>\n",
        "Int64Index: 891 entries, 0 to 890\n",
        "Data columns (total 4 columns):\n",
        "PassengerId    891 non-null int64\n",
        "Pclass         891 non-null int64\n",
        "SibSp          891 non-null int64\n",
        "Parch          891 non-null int64\n",
        "dtypes: int64(4)\n",
        "memory usage: 34.8 KB\n"
       ]
      }
     ],
     "prompt_number": 74
    },
    {
     "cell_type": "code",
     "collapsed": false,
     "input": [
      "get_ipython().magic(u'matplotlib inline')\n",
      "df_training_clean['Pclass'].plot(kind='kde')\n"
     ],
     "language": "python",
     "metadata": {},
     "outputs": [
      {
       "metadata": {},
       "output_type": "pyout",
       "prompt_number": 75,
       "text": [
        "<matplotlib.axes._subplots.AxesSubplot at 0x7f2167366350>"
       ]
      },
      {
       "metadata": {},
       "output_type": "display_data",
       "png": "[encoded data removed]",
       "text": [
        "<matplotlib.figure.Figure at 0x7f21673f90d0>"
       ]
      }
     ],
     "prompt_number": 75
    },
    {
     "cell_type": "code",
     "collapsed": false,
     "input": [
      "# #### Now let us train a decision tree algorithm using the training data and the corresponding target. We will use the scikit-learn (sklearn) python package. Scikit expects a pure numpy array so we should convert our training DataFrame to numpy array as follows.\n",
      "\n",
      "array_training_clean=df_training_clean.values\n",
      "array_target=target.values\n",
      "#the shape method tells us about the rank of the array\n",
      "print 'The shape of training array is: ',array_training_clean.shape \n",
      "print 'The shape of the target array is: ',array_target.shape "
     ],
     "language": "python",
     "metadata": {},
     "outputs": [
      {
       "output_type": "stream",
       "stream": "stdout",
       "text": [
        "The shape of training array is:  (891, 4)\n",
        "The shape of the target array is:  (891,)\n"
       ]
      }
     ],
     "prompt_number": 76
    },
    {
     "cell_type": "code",
     "collapsed": false,
     "input": [
      "# #### Now the training part -  it takes only just three lines!!! \n",
      "\n",
      "from sklearn import tree #import tree algorithm from scikit-learn\n",
      "#Intitialize the DecisionTreeClassifier algorithm with optional parameters \n",
      "classifier = tree.DecisionTreeClassifier(min_samples_leaf=5, max_depth=4) \n",
      "#use the initialized tree to learn the relationship between \n",
      "#known passanger information, features, and know state of survival \n",
      "classifier.fit(array_training_clean, array_target)\n",
      "\n"
     ],
     "language": "python",
     "metadata": {},
     "outputs": [
      {
       "metadata": {},
       "output_type": "pyout",
       "prompt_number": 77,
       "text": [
        "DecisionTreeClassifier(compute_importances=None, criterion='gini',\n",
        "            max_depth=4, max_features=None, max_leaf_nodes=None,\n",
        "            min_density=None, min_samples_leaf=5, min_samples_split=2,\n",
        "            random_state=None, splitter='best')"
       ]
      }
     ],
     "prompt_number": 77
    },
    {
     "cell_type": "code",
     "collapsed": false,
     "input": [
      "# #### Let us see what the machine will predict \n",
      "\n",
      "\n",
      "#The variable classifier in the above cell contains a tree which has a \n",
      "#knowledge of how passengers features are related to their survival.\n",
      "\n",
      "#Just to have insight, let's see how our decision tree predicts \n",
      "print \"First 5 training target\"\n",
      "print array_target[0:5]\n",
      "print \"Prediction on first 5 training Rows\"\n",
      "print classifier.predict(array_training_clean[0:5,:])\n"
     ],
     "language": "python",
     "metadata": {},
     "outputs": [
      {
       "output_type": "stream",
       "stream": "stdout",
       "text": [
        "First 5 training target\n",
        "[0 1 1 1 0]\n",
        "Prediction on first 5 training Rows\n",
        "[0 0 0 0 0]\n"
       ]
      }
     ],
     "prompt_number": 78
    },
    {
     "cell_type": "code",
     "collapsed": false,
     "input": [
      "# We can see the score, the efficiency of the training as follows\n",
      "print(\"Training Score: \", classifier.score(array_training_clean, array_target))\n",
      "#Since our analysis is simple, we did not attempt to fill the missing data etc.  \n",
      "#the score score is low, in principle with a proper data cleaning etc. \n",
      "# we could get the maximim training score of 1. \n",
      "\n",
      "\n",
      "# ## Weekend Assignment\n",
      "# #### Your task it to do the following - just copy paste the python codes in between the lines and it should work. \n",
      "#"
     ],
     "language": "python",
     "metadata": {},
     "outputs": [
      {
       "output_type": "stream",
       "stream": "stdout",
       "text": [
        "('Training Score: ', 0.72951739618406286)\n"
       ]
      }
     ],
     "prompt_number": 79
    },
    {
     "cell_type": "code",
     "collapsed": false,
     "input": [
      "#                                       Assignment n0 II of Big data                                                             #\n",
      "\n",
      "#####################################\"\"\"\"\"\"\"\"\"\"\"\"\"\"\"\"\"\"\"\"\"\"\"\"\"\"\"\"\"\"\"\"\"############################################################\n",
      "#####################################      START FROM Here            ############################################################\n",
      "##################################################################################################################################\n",
      "##################################################################################################################################\n",
      "# 1. load the test data into pandas DataFrame \n",
      "df_test = pd.read_csv(test_data_filepath)\n",
      "df_training = pd.read_csv(training_data_filepath)              \n"
     ],
     "language": "python",
     "metadata": {},
     "outputs": [],
     "prompt_number": 80
    },
    {
     "cell_type": "code",
     "collapsed": false,
     "input": [
      "# 2. Check the nature of the test data using the info() method as \n",
      "df_test.info()    "
     ],
     "language": "python",
     "metadata": {},
     "outputs": [
      {
       "output_type": "stream",
       "stream": "stdout",
       "text": [
        "<class 'pandas.core.frame.DataFrame'>\n",
        "Int64Index: 418 entries, 0 to 417\n",
        "Data columns (total 11 columns):\n",
        "PassengerId    418 non-null int64\n",
        "Pclass         418 non-null int64\n",
        "Name           418 non-null object\n",
        "Sex            418 non-null object\n",
        "Age            332 non-null float64\n",
        "SibSp          418 non-null int64\n",
        "Parch          418 non-null int64\n",
        "Ticket         418 non-null object\n",
        "Fare           417 non-null float64\n",
        "Cabin          91 non-null object\n",
        "Embarked       418 non-null object\n",
        "dtypes: float64(2), int64(4), object(5)\n",
        "memory usage: 39.2 KB\n"
       ]
      }
     ],
     "prompt_number": 81
    },
    {
     "cell_type": "code",
     "collapsed": false,
     "input": [
      "#      \n",
      "#      Here you will notice that there is missing data for the Fare column for one passenger. \n",
      "#      Since we need the same set of features in the training and test data sets, \n",
      "#      **we can NOT drop it**. We need therefore to fill it. i) Compute the mean \n",
      "#      Fare for different classes, and put them in a dictionary ii) get the rows whose\n",
      "#      Fare is missing iii) fill the missing data according to the class the passanger is in \n",
      "mean_fare_by_pclass = df_test[['Pclass','Fare']].groupby(['Pclass']).agg('mean')['Fare']    \n",
      "fare_given_pclass = df_test['Pclass'].apply(lambda x: mean_fare_by_pclass[x])    \n",
      "df_test['Fare'].fillna(fare_given_pclass,inplace=True)\n"
     ],
     "language": "python",
     "metadata": {},
     "outputs": [],
     "prompt_number": 82
    },
    {
     "cell_type": "code",
     "collapsed": false,
     "input": [
      "# 3. Similar to what we did for the training data, drop the columns \n",
      "#     ['Age','Cabin','Embarked','Name','Sex','Ticket'] as \n",
      "# \n",
      "df_test_clean = df_test.drop(['Age','Cabin','Embarked','Name','Sex','Ticket'],axis=1)\n",
      "df_training_clean = df_training.drop(['Age','Cabin','Embarked','Name','Sex','Ticket'],axis=1) \n",
      "#print df_test_clean"
     ],
     "language": "python",
     "metadata": {},
     "outputs": [],
     "prompt_number": 83
    },
    {
     "cell_type": "code",
     "collapsed": false,
     "input": [
      "# 4. Convert the test DataFrame to numpy array \n",
      "target = df_training_clean.pop('Survived')\n",
      "\n",
      "array_training_clean = df_training_clean.values\n",
      "array_target_clean = df_training_clean.values\n",
      "print 'The shape of training array is: ',array_training_clean.shape\n",
      "print 'The shape of the target array is: ',array_target_clean.shape\n",
      "\n",
      "array_test_clean = df_test_clean.values\n",
      "array_target_clean = df_test_clean.values\n",
      "print 'The shape of the test array is: ',array_test_clean.shape \n",
      "print 'The shape of the target array is: ',array_target_clean.shape\n",
      "\n",
      "\n",
      "#print array_test_clean"
     ],
     "language": "python",
     "metadata": {},
     "outputs": [
      {
       "output_type": "stream",
       "stream": "stdout",
       "text": [
        "The shape of training array is:  (891, 5)\n",
        "The shape of the target array is:  (891, 5)\n",
        "The shape of the test array is:  (418, 5)\n",
        "The shape of the target array is:  (418, 5)\n"
       ]
      }
     ],
     "prompt_number": 84
    },
    {
     "cell_type": "code",
     "collapsed": false,
     "input": [
      "from sklearn import tree #import tree algorithm from scikit-learn\n",
      "#Intitialize the DecisionTreeClassifier algorithm with optional parameters \n",
      "classifier = tree.DecisionTreeClassifier(min_samples_leaf=5, max_depth=4) \n",
      "#use the initialized tree to learn the relationship between \n",
      "#known passanger information, features, and know state of survival \n",
      "classifier.fit(array_training_clean, array_target)"
     ],
     "language": "python",
     "metadata": {},
     "outputs": [
      {
       "metadata": {},
       "output_type": "pyout",
       "prompt_number": 85,
       "text": [
        "DecisionTreeClassifier(compute_importances=None, criterion='gini',\n",
        "            max_depth=4, max_features=None, max_leaf_nodes=None,\n",
        "            min_density=None, min_samples_leaf=5, min_samples_split=2,\n",
        "            random_state=None, splitter='best')"
       ]
      }
     ],
     "prompt_number": 85
    },
    {
     "cell_type": "code",
     "collapsed": false,
     "input": [
      "# 6. Save the prediction to a file. If you want, you can submit this file in Kaggle page and get your score \n",
      "# \n",
      "with open('prediction.csv', 'w') as csvfile:    \n",
      "    for survived in survival_prediction:\n",
      "        csvfile.write(\"{}\\n\".format(survived)) \n",
      "#     \n",
      "# 7. **BONUS:** Visualize the result. Be creative :)\n",
      "\n",
      "\n",
      "df_test = pd.read_csv(test_data_filepath)\n",
      "mean_fare_by_pclass = df_test[['Pclass','Fare']].groupby(['Pclass']).agg('mean')['Fare']\n",
      "fare_given_pclass=df_test['Pclass'].apply(lambda x: mean_fare_by_pclass[x])\n",
      "df_test['Fare'].fillna(fare_given_pclass,inplace=True)\n",
      "df_test_clean = df_test.drop(['Age','Cabin','Embarked','Name','Sex','Ticket'],axis=1) \n",
      "array_test_clean = df_test_clean.values\n",
      "survival_test = classifier.predict(array_test_clean)\n",
      "df_test.info()"
     ],
     "language": "python",
     "metadata": {},
     "outputs": [
      {
       "output_type": "stream",
       "stream": "stdout",
       "text": [
        "<class 'pandas.core.frame.DataFrame'>\n",
        "Int64Index: 418 entries, 0 to 417\n",
        "Data columns (total 11 columns):\n",
        "PassengerId    418 non-null int64\n",
        "Pclass         418 non-null int64\n",
        "Name           418 non-null object\n",
        "Sex            418 non-null object\n",
        "Age            332 non-null float64\n",
        "SibSp          418 non-null int64\n",
        "Parch          418 non-null int64\n",
        "Ticket         418 non-null object\n",
        "Fare           418 non-null float64\n",
        "Cabin          91 non-null object\n",
        "Embarked       418 non-null object\n",
        "dtypes: float64(2), int64(4), object(5)\n",
        "memory usage: 39.2 KB\n"
       ]
      }
     ],
     "prompt_number": 86
    },
    {
     "cell_type": "code",
     "collapsed": false,
     "input": [
      "# 6. Save the prediction to a file. If you want, you can submit this file in Kaggle page and get your score \n",
      "# \n",
      "with open('prediction.csv', 'w') as csvfile:    \n",
      "    for survived in survival_prediction:\n",
      "        csvfile.write(\"{}\\n\".format(survived))"
     ],
     "language": "python",
     "metadata": {},
     "outputs": [],
     "prompt_number": 87
    },
    {
     "cell_type": "code",
     "collapsed": false,
     "input": [
      "filename = 'data/predic.csv'\n",
      "print os.path.exists(filename)"
     ],
     "language": "python",
     "metadata": {},
     "outputs": [
      {
       "output_type": "stream",
       "stream": "stdout",
       "text": [
        "True\n"
       ]
      }
     ],
     "prompt_number": 111
    },
    {
     "cell_type": "code",
     "collapsed": false,
     "input": [
      "df = pd.read_csv(filename)"
     ],
     "language": "python",
     "metadata": {},
     "outputs": [],
     "prompt_number": 94
    },
    {
     "cell_type": "code",
     "collapsed": false,
     "input": [
      "df.info()"
     ],
     "language": "python",
     "metadata": {},
     "outputs": [
      {
       "output_type": "stream",
       "stream": "stdout",
       "text": [
        "<class 'pandas.core.frame.DataFrame'>\n",
        "Int64Index: 418 entries, 0 to 417\n",
        "Data columns (total 2 columns):\n",
        "PassengerId    418 non-null int64\n",
        "Survived       418 non-null int64\n",
        "dtypes: int64(2)\n",
        "memory usage: 9.8 KB\n"
       ]
      }
     ],
     "prompt_number": 95
    },
    {
     "cell_type": "code",
     "collapsed": false,
     "input": [
      "# plot all the data\n",
      "%matplotlib inline\n",
      "df.plot(kind='')"
     ],
     "language": "python",
     "metadata": {},
     "outputs": [
      {
       "metadata": {},
       "output_type": "pyout",
       "prompt_number": 115,
       "text": [
        "<matplotlib.axes._subplots.AxesSubplot at 0x7f215f04b8d0>"
       ]
      },
      {
       "metadata": {},
       "output_type": "display_data",
       "png": "[encoded data removed]",
       "text": [
        "<matplotlib.figure.Figure at 0x7f215f2e0890>"
       ]
      }
     ],
     "prompt_number": 115
    },
    {
     "cell_type": "code",
     "collapsed": false,
     "input": [
      "# plot all the data\n",
      "%matplotlib inline\n",
      "df['Survived'].plot(kind='kde')"
     ],
     "language": "python",
     "metadata": {},
     "outputs": [
      {
       "metadata": {},
       "output_type": "pyout",
       "prompt_number": 110,
       "text": [
        "<matplotlib.axes._subplots.AxesSubplot at 0x7f215f3c1fd0>"
       ]
      },
      {
       "metadata": {},
       "output_type": "display_data",
       "png": "[encoded data removed]",
       "text": [
        "<matplotlib.figure.Figure at 0x7f215f3ec4d0>"
       ]
      }
     ],
     "prompt_number": 110
    },
    {
     "cell_type": "code",
     "collapsed": false,
     "input": [
      "# plot all the data\n",
      "%matplotlib inline\n",
      "df['PassengerId'].plot(kind='hist')"
     ],
     "language": "python",
     "metadata": {},
     "outputs": [
      {
       "metadata": {},
       "output_type": "pyout",
       "prompt_number": 113,
       "text": [
        "<matplotlib.axes._subplots.AxesSubplot at 0x7f215f458e90>"
       ]
      },
      {
       "metadata": {},
       "output_type": "display_data",
       "png": "[encoded data removed]",
       "text": [
        "<matplotlib.figure.Figure at 0x7f215fddfad0>"
       ]
      }
     ],
     "prompt_number": 113
    },
    {
     "cell_type": "code",
     "collapsed": false,
     "input": [],
     "language": "python",
     "metadata": {},
     "outputs": []
    }
   ],
   "metadata": {}
  }
 ]
}