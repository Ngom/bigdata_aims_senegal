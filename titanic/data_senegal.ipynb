{
 "metadata": {
  "name": "",
  "signature": "sha256:4d7942cb621efcfc2c85894fa41bb0e2298c21f2c80537d61cf65c870ccc3ad9"
 },
 "nbformat": 3,
 "nbformat_minor": 0,
 "worksheets": [
  {
   "cells": [
    {
     "cell_type": "code",
     "collapsed": false,
     "input": [
      "import numpy as np\n",
      "import pandas as pd\n",
      "import matplotlib.pyplot as plt\n",
      "import os"
     ],
     "language": "python",
     "metadata": {},
     "outputs": [],
     "prompt_number": 1
    },
    {
     "cell_type": "code",
     "collapsed": false,
     "input": [
      "plt.interactive(True)\n",
      "df = pd.read_csv('data/data_senegal.csv', skiprows=2)\n",
      "df.keys()"
     ],
     "language": "python",
     "metadata": {},
     "outputs": [
      {
       "metadata": {},
       "output_type": "pyout",
       "prompt_number": 2,
       "text": [
        "Index([u'Causes', u'Year', u'Both sexes', u'Female', u'Male'], dtype='object')"
       ]
      }
     ],
     "prompt_number": 2
    },
    {
     "cell_type": "code",
     "collapsed": true,
     "input": [
      "df.info()"
     ],
     "language": "python",
     "metadata": {},
     "outputs": [
      {
       "output_type": "stream",
       "stream": "stdout",
       "text": [
        "<class 'pandas.core.frame.DataFrame'>\n",
        "Int64Index: 226 entries, 0 to 225\n",
        "Data columns (total 5 columns):\n",
        "Causes        226 non-null object\n",
        "Year          226 non-null int64\n",
        "Both sexes    226 non-null float64\n",
        "Female        226 non-null float64\n",
        "Male          226 non-null float64\n",
        "dtypes: float64(3), int64(1), object(1)\n",
        "memory usage: 10.6 KB\n"
       ]
      }
     ],
     "prompt_number": 3
    },
    {
     "cell_type": "code",
     "collapsed": false,
     "input": [
      "#df"
     ],
     "language": "python",
     "metadata": {},
     "outputs": [],
     "prompt_number": 4
    },
    {
     "cell_type": "code",
     "collapsed": false,
     "input": [
      "df2000 = df[df['Year']==2000]\n",
      "df2012 = df[df['Year']==2012]\n"
     ],
     "language": "python",
     "metadata": {},
     "outputs": [],
     "prompt_number": 5
    },
    {
     "cell_type": "code",
     "collapsed": false,
     "input": [
      "df2000.plot()\n",
      "plt.draw()\n",
      "#%matplotlib inline\n",
      "#df2000.plot()"
     ],
     "language": "python",
     "metadata": {},
     "outputs": [],
     "prompt_number": 7
    },
    {
     "cell_type": "code",
     "collapsed": false,
     "input": [
      "# drop actual plots do it\n",
      "#plt.clf()\n",
      "plt.close() #with argument all for all plots"
     ],
     "language": "python",
     "metadata": {},
     "outputs": [],
     "prompt_number": 8
    },
    {
     "cell_type": "code",
     "collapsed": false,
     "input": [
      "#df2000['Female'].hist()\n",
      "#plt.show()\n",
      "#%matplotlib inline\n",
      "df2000['Female'].plot(kind='hist')\n",
      "plt.draw()"
     ],
     "language": "python",
     "metadata": {},
     "outputs": [],
     "prompt_number": 10
    },
    {
     "cell_type": "code",
     "collapsed": false,
     "input": [
      "plt.close()"
     ],
     "language": "python",
     "metadata": {},
     "outputs": [],
     "prompt_number": 13
    },
    {
     "cell_type": "code",
     "collapsed": false,
     "input": [
      "#%matplotlib inline\n",
      "df2000['Female'].plot(kind='bar')\n",
      "plt.draw()\n",
      "plt.close()"
     ],
     "language": "python",
     "metadata": {},
     "outputs": [],
     "prompt_number": 100
    },
    {
     "cell_type": "code",
     "collapsed": false,
     "input": [
      "plt.bar(range(len(df2000['Female'])),df2000['Female'])\n",
      "plt.draw()\n",
      "plt.close()"
     ],
     "language": "python",
     "metadata": {},
     "outputs": [],
     "prompt_number": 64
    },
    {
     "cell_type": "code",
     "collapsed": false,
     "input": [
      "plt.bar(df2000['Female'].index, df2000['Female'])\n",
      "plt.draw()\n",
      "plt.close()"
     ],
     "language": "python",
     "metadata": {},
     "outputs": [],
     "prompt_number": 107
    },
    {
     "cell_type": "code",
     "collapsed": false,
     "input": [
      "df2000['Female'].index"
     ],
     "language": "python",
     "metadata": {},
     "outputs": [
      {
       "metadata": {},
       "output_type": "pyout",
       "prompt_number": 108,
       "text": [
        "Int64Index([1, 3, 5, 7, 9, 11, 13, 15, 17, 19, 21, 23, 25, 27, 29, 31, 33, 35, 37, 39, 41, 43, 45, 47, 49, 51, 53, 55, 57, 59, 61, 63, 65, 67, 69, 71, 73, 75, 77, 79, 81, 83, 85, 87, 89, 91, 93, 95, 97, 99, 101, 103, 105, 107, 109, 111, 113, 115, 117, 119, 121, 123, 125, 127, 129, 131, 133, 135, 137, 139, 141, 143, 145, 147, 149, 151, 153, 155, 157, 159, 161, 163, 165, 167, 169, 171, 173, 175, 177, 179, 181, 183, 185, 187, 189, 191, 193, 195, 197, 199, ...], dtype='int64')"
       ]
      }
     ],
     "prompt_number": 108
    },
    {
     "cell_type": "code",
     "collapsed": false,
     "input": [
      "df2000['Causes'][3]"
     ],
     "language": "python",
     "metadata": {},
     "outputs": [
      {
       "metadata": {},
       "output_type": "pyout",
       "prompt_number": 109,
       "text": [
        "'Communicable & other Group I'"
       ]
      }
     ],
     "prompt_number": 109
    },
    {
     "cell_type": "code",
     "collapsed": false,
     "input": [
      "plt.grid()\n",
      "plt.ylim(0,1600)\n",
      "plt.figure(1)\n",
      "plt.title('2000')\n",
      "plt.ylabel('death')\n",
      "plt.xlabel('causes')\n",
      "plt.bar(df2000['Female'].index, df2000['Female'])\n",
      "plt.draw()"
     ],
     "language": "python",
     "metadata": {},
     "outputs": [],
     "prompt_number": 110
    },
    {
     "cell_type": "code",
     "collapsed": false,
     "input": [
      "plt.figure(2)\n",
      "plt.ylim(0,1600)\n",
      "plt.title('2012')\n",
      "plt.ylabel('death')\n",
      "plt.xlabel('causes')\n",
      "plt.bar(range(len(df2012['Female'])),df2012['Female'])\n",
      "plt.grid()\n",
      "plt.draw()"
     ],
     "language": "python",
     "metadata": {},
     "outputs": [],
     "prompt_number": 111
    },
    {
     "cell_type": "code",
     "collapsed": false,
     "input": [
      "plt.close('all')"
     ],
     "language": "python",
     "metadata": {},
     "outputs": [],
     "prompt_number": 112
    },
    {
     "cell_type": "code",
     "collapsed": false,
     "input": [
      "plt.subplot(211)\n",
      "plt.bar(range(len(df2012['Female'])),df2012['Female'])\n",
      "plt.title('2000')\n",
      "plt.ylabel('Death')\n",
      "plt.xlabel('')\n",
      "plt.grid()\n",
      "plt.draw()"
     ],
     "language": "python",
     "metadata": {},
     "outputs": [],
     "prompt_number": 131
    },
    {
     "cell_type": "code",
     "collapsed": false,
     "input": [
      "plt.subplot(212)\n",
      "plt.bar(range(len(df2012['Female'])),df2012['Female'])\n",
      "plt.title('')\n",
      "plt.ylabel('Death')\n",
      "plt.xlabel('Causes')\n",
      "plt.grid()\n",
      "plt.draw()"
     ],
     "language": "python",
     "metadata": {},
     "outputs": [],
     "prompt_number": 134
    },
    {
     "cell_type": "code",
     "collapsed": false,
     "input": [
      "plt.subplots_adjust(hspace=0.0)"
     ],
     "language": "python",
     "metadata": {},
     "outputs": [],
     "prompt_number": 133
    },
    {
     "cell_type": "code",
     "collapsed": false,
     "input": [
      "plt.close('all')"
     ],
     "language": "python",
     "metadata": {},
     "outputs": [],
     "prompt_number": 135
    },
    {
     "cell_type": "code",
     "collapsed": false,
     "input": [
      "# \".values\" extait les valeurs et non les indexes\n",
      "X = df2000['Both sexes'].values\n",
      "Y = df2012['Both sexes'].values"
     ],
     "language": "python",
     "metadata": {},
     "outputs": [],
     "prompt_number": 177
    },
    {
     "cell_type": "code",
     "collapsed": false,
     "input": [
      "plt.axis('scaled')"
     ],
     "language": "python",
     "metadata": {},
     "outputs": [
      {
       "metadata": {},
       "output_type": "pyout",
       "prompt_number": 181,
       "text": [
        "(-500.0, 2000.0, -200.0, 1400.0)"
       ]
      }
     ],
     "prompt_number": 181
    },
    {
     "cell_type": "code",
     "collapsed": false,
     "input": [
      "plt.xlim(0.0, 1000)"
     ],
     "language": "python",
     "metadata": {},
     "outputs": [
      {
       "metadata": {},
       "output_type": "pyout",
       "prompt_number": 182,
       "text": [
        "(0.0, 1000)"
       ]
      }
     ],
     "prompt_number": 182
    },
    {
     "cell_type": "code",
     "collapsed": false,
     "input": [
      "plt.ylim(0.0, 1000)"
     ],
     "language": "python",
     "metadata": {},
     "outputs": [
      {
       "metadata": {},
       "output_type": "pyout",
       "prompt_number": 183,
       "text": [
        "(0.0, 1000)"
       ]
      }
     ],
     "prompt_number": 183
    },
    {
     "cell_type": "code",
     "collapsed": false,
     "input": [
      "plt.plot([0,1000],[0,1000],'k')"
     ],
     "language": "python",
     "metadata": {},
     "outputs": [
      {
       "metadata": {},
       "output_type": "pyout",
       "prompt_number": 186,
       "text": [
        "[<matplotlib.lines.Line2D at 0x7f288bd67f50>]"
       ]
      }
     ],
     "prompt_number": 186
    },
    {
     "cell_type": "code",
     "collapsed": false,
     "input": [
      "plt.scatter(X,Y)\n",
      "plt.grid()\n",
      "plt.title('Comparison of number of death between 2000 and 2012')\n",
      "plt.xlabel('Death in 2000')\n",
      "plt.ylabel('Death in 2012')\n",
      "plt.legend(['Causes'])\n",
      "plt.draw()"
     ],
     "language": "python",
     "metadata": {},
     "outputs": [],
     "prompt_number": 191
    },
    {
     "cell_type": "code",
     "collapsed": false,
     "input": [
      "# Il faut respect range/scale\n",
      "# axes labels (units)\n",
      "# legend \n",
      "# title(caption)\n"
     ],
     "language": "python",
     "metadata": {},
     "outputs": []
    }
   ],
   "metadata": {}
  }
 ]
}