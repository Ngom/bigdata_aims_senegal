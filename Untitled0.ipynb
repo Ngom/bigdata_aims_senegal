{
 "metadata": {
  "name": "",
  "signature": "sha256:adf0ef0d3a0346b9f5fa553e2c340fbf948dad90e7c8fee42e5bb7b6327b2447"
 },
 "nbformat": 3,
 "nbformat_minor": 0,
 "worksheets": [
  {
   "cells": [
    {
     "cell_type": "code",
     "collapsed": false,
     "input": [
      "import numpy as np\n",
      "import os\n",
      "import sys\n",
      "\n",
      "#This strategy uses the average of the history guesses\n",
      "\n",
      "def my_guess_constant(History=None):\n",
      "    return 50\n",
      "\n",
      "def my_guess_random(History=None):\n",
      "    return np.random.randint(40, 60)\n",
      "\n",
      "def myFinal_guess(History=None):\n",
      "    #guess=[]\n",
      "    if History!= None:\n",
      "        sum_guess=np.sum(np.array([History]))\n",
      "        n=np.shape(np.array([History]))\n",
      "        tot=len(n)\n",
      "        my_guess=sum_guess/tot\n",
      "    else:\n",
      "        my_guess=my_guess_random()\n",
      "        \n",
      "    return \"MY GUESS is\" , my_guess"
     ],
     "language": "python",
     "metadata": {},
     "outputs": [],
     "prompt_number": 3
    },
    {
     "cell_type": "code",
     "collapsed": false,
     "input": [],
     "language": "python",
     "metadata": {},
     "outputs": []
    }
   ],
   "metadata": {}
  }
 ]
}