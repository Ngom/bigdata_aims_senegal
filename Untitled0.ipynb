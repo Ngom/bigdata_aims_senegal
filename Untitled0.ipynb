{
 "cells": [
  {
   "cell_type": "code",
   "execution_count": 1,
   "metadata": {
    "collapsed": false
   },
   "outputs": [],
   "source": [
    "import numpy as np\n",
    "import os\n",
    "import sys\n",
    "\n",
    "#This strategy uses the average of the history guesses\n",
    "\n",
    "def my_guess_constant(History=None):\n",
    "    return 50\n",
    "\n",
    "def my_guess_random(History=None):\n",
    "    return np.random.randint(40, 60)\n",
    "\n",
    "def myFinal_guess(History=None):\n",
    "    #guess=[]\n",
    "    if History!= None:\n",
    "        sum_guess=np.sum(np.array([History]))\n",
    "        n=np.shape(np.array([History]))\n",
    "        tot=len(n)\n",
    "        my_guess=sum_guess/tot\n",
    "    else:\n",
    "        my_guess=my_guess_random()\n",
    "        \n",
    "    return \"MY GUESS is\" , my_guess"
   ]
  },
  {
   "cell_type": "code",
   "execution_count": null,
   "metadata": {
    "collapsed": false
   },
   "outputs": [],
   "source": []
  }
 ],
 "metadata": {
  "kernelspec": {
   "display_name": "Python 2",
   "language": "python",
   "name": "python2"
  },
  "language_info": {
   "codemirror_mode": {
    "name": "ipython",
    "version": 2
   },
   "file_extension": ".py",
   "mimetype": "text/x-python",
   "name": "python",
   "nbconvert_exporter": "python",
   "pygments_lexer": "ipython2",
   "version": "2.7.9"
  }
 },
 "nbformat": 4,
 "nbformat_minor": 0
}
